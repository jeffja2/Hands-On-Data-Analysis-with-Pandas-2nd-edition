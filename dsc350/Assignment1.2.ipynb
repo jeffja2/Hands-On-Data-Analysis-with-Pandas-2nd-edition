{
 "cells": [
  {
   "cell_type": "code",
   "execution_count": 55,
   "id": "04ee9930-9054-4fec-90c1-1e89a2bc1618",
   "metadata": {},
   "outputs": [
    {
     "name": "stdout",
     "output_type": "stream",
     "text": [
      "Hello world\n",
      "34\n",
      "16\n",
      "225\n",
      "2.7777777777777777\n",
      "Hello world\n",
      "['Hello', 'world', 3, 'times']\n",
      "Hello\n",
      "world\n",
      "3\n",
      "times\n",
      "['Hello', 'world', 3, 'times', '!']\n",
      "Hello\n",
      "world\n",
      "3\n",
      "times\n",
      "!\n",
      "('Ford', 'Chevrolet', 'Honda', 'Porsche')\n"
     ]
    }
   ],
   "source": [
    "# ============================================\n",
    "#; Title: Assignment 1.2\n",
    "#; Author: Jeff Richardson\n",
    "#; Date: 3 June 2024\n",
    "#; Description: This program demonstrates the use of Python types, values, and\n",
    "#; and variables in an application.\n",
    "#;===========================================\n",
    "\n",
    "#Following in the footsteps of Kernighan and Ritchie\n",
    "print (\"Hello world\")\n",
    "\n",
    "#Perform arithmetical operations on two numbers\n",
    "x = 25\n",
    "y = 9\n",
    "\n",
    "print(x + y)\n",
    "\n",
    "print(x - y)\n",
    "\n",
    "print(x * y)\n",
    "\n",
    "print(x/y)\n",
    "\n",
    "#Concatenate two words\n",
    "word1 = \"Hello\"\n",
    "word2 = \"world\"\n",
    "print(word1 + \" \" +  word2)\n",
    "\n",
    "#Create a list\n",
    "mylist = [\"Hello\", \"world\", 3, \"times\"]\n",
    "print(mylist)\n",
    "for x in mylist:\n",
    "    print (x)\n",
    "\n",
    "#Append to a list\n",
    "mylist.append(\"!\")\n",
    "print(mylist)\n",
    "for x in mylist:\n",
    "    print (x)\n",
    "\n",
    "#Create a tuple\n",
    "mytuple = (\"Ford\", \"Chevrolet\", \"Honda\", \"Porsche\")\n",
    "print(mytuple)"
   ]
  },
  {
   "cell_type": "code",
   "execution_count": null,
   "id": "dd81a9d3-7e19-4cbf-a46e-6df77edbb79e",
   "metadata": {},
   "outputs": [],
   "source": []
  }
 ],
 "metadata": {
  "kernelspec": {
   "display_name": "Python 3 (ipykernel)",
   "language": "python",
   "name": "python3"
  },
  "language_info": {
   "codemirror_mode": {
    "name": "ipython",
    "version": 3
   },
   "file_extension": ".py",
   "mimetype": "text/x-python",
   "name": "python",
   "nbconvert_exporter": "python",
   "pygments_lexer": "ipython3",
   "version": "3.11.7"
  }
 },
 "nbformat": 4,
 "nbformat_minor": 5
}
